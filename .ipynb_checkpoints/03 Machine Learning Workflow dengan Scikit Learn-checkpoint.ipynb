{
 "cells": [
  {
   "cell_type": "markdown",
   "id": "0f4d5d9f",
   "metadata": {},
   "source": [
    "# Machine Learning Workflow dengan Scikit Learn"
   ]
  },
  {
   "cell_type": "markdown",
   "id": "fec8d103",
   "metadata": {},
   "source": [
    "## Persiapan Dataset"
   ]
  },
  {
   "cell_type": "markdown",
   "id": "15d780ca",
   "metadata": {},
   "source": [
    "### Load Sample Dataset: Iris Dataset"
   ]
  },
  {
   "cell_type": "code",
   "execution_count": 1,
   "id": "915622ff",
   "metadata": {},
   "outputs": [],
   "source": [
    "from sklearn.datasets import load_iris\n",
    "\n",
    "iris = load_iris()\n",
    "\n",
    "X = iris.data\n",
    "y = iris.target"
   ]
  },
  {
   "cell_type": "markdown",
   "id": "05535e74",
   "metadata": {},
   "source": [
    "### Splitting Dataset: Training & Testing Set"
   ]
  },
  {
   "cell_type": "code",
   "execution_count": 2,
   "id": "ff713313",
   "metadata": {},
   "outputs": [],
   "source": [
    "from sklearn.model_selection import train_test_split\n",
    "\n",
    "X_train, X_test, y_train, y_test = train_test_split(X,\n",
    "                                                    y,\n",
    "                                                    test_size=0.4,\n",
    "                                                    random_state=1)"
   ]
  },
  {
   "cell_type": "markdown",
   "id": "83909b4b",
   "metadata": {},
   "source": [
    "### Training Model\n"
   ]
  },
  {
   "cell_type": "markdown",
   "id": "d748ca6a",
   "metadata": {},
   "source": [
    "- Method fit() berfungsi untuk membuat suatu training model.\n",
    "- Method predict() berfungsi untuk melakukan perkiraan dengan pemanfaatan trained model."
   ]
  },
  {
   "cell_type": "markdown",
   "id": "816a5f8d",
   "metadata": {},
   "source": [
    "### Evaluasi Model"
   ]
  },
  {
   "cell_type": "markdown",
   "id": "31ac51eb",
   "metadata": {},
   "source": [
    "- Menggunakan accuracy sebagai metrics testing model yang sudah ditraining."
   ]
  },
  {
   "cell_type": "code",
   "execution_count": 11,
   "id": "afc8c476",
   "metadata": {},
   "outputs": [
    {
     "name": "stdout",
     "output_type": "stream",
     "text": [
      "Accuracy: 0.9833333333333333\n"
     ]
    }
   ],
   "source": [
    "from sklearn.metrics import accuracy_score\n",
    "\n",
    "y_pred = model.predict(X_test)\n",
    "acc = accuracy_score(y_test, y_pred)\n",
    "print(f'Accuracy: {acc}')"
   ]
  },
  {
   "cell_type": "markdown",
   "id": "80f01d65",
   "metadata": {},
   "source": [
    "### Pemanfaatan Trained Model"
   ]
  },
  {
   "cell_type": "markdown",
   "id": "c7c81cd1",
   "metadata": {},
   "source": [
    "- Trained model berfungsi untuk bisa memprediksi sebuah data yang baru dibuat"
   ]
  },
  {
   "cell_type": "raw",
   "id": "6d7355fd",
   "metadata": {},
   "source": [
    "from sklearn.neighbors import KNeighborsClassifier\n",
    "\n",
    "model = KNeighborsClassifier(n_neighbors=3)\n",
    "model.fit(X_train, y_train)"
   ]
  },
  {
   "cell_type": "code",
   "execution_count": 12,
   "id": "8d51f420",
   "metadata": {},
   "outputs": [
    {
     "data": {
      "text/plain": [
       "array([1, 2])"
      ]
     },
     "execution_count": 12,
     "metadata": {},
     "output_type": "execute_result"
    }
   ],
   "source": [
    "data_baru = [[5, 5, 3, 2], \n",
    "             [2, 4, 3, 5]]\n",
    "\n",
    "preds =  model.predict(data_baru)\n",
    "preds"
   ]
  },
  {
   "cell_type": "code",
   "execution_count": 13,
   "id": "a8353253",
   "metadata": {},
   "outputs": [
    {
     "name": "stdout",
     "output_type": "stream",
     "text": [
      "Hasil Prediksi: ['versicolor', 'virginica']\n"
     ]
    }
   ],
   "source": [
    "pred_species = [iris.target_names[p] for p in preds] \n",
    "print(f'Hasil Prediksi: {pred_species}')"
   ]
  },
  {
   "cell_type": "markdown",
   "id": "5f642900",
   "metadata": {},
   "source": [
    "### Dump & Load Trained Model"
   ]
  },
  {
   "cell_type": "markdown",
   "id": "2ba82752",
   "metadata": {},
   "source": [
    "Dumping Model Machine Learning menjadi file joblib"
   ]
  },
  {
   "cell_type": "markdown",
   "id": "7970298d",
   "metadata": {},
   "source": [
    "- Parameter pertama mengindikasikan model yang diinginkan\n",
    "- Parameter kedua mengindikasikan nama modelnya"
   ]
  },
  {
   "cell_type": "code",
   "execution_count": 23,
   "id": "bb5625a8",
   "metadata": {},
   "outputs": [
    {
     "data": {
      "text/plain": [
       "['iris_classifier_knn.joblib']"
      ]
     },
     "execution_count": 23,
     "metadata": {},
     "output_type": "execute_result"
    }
   ],
   "source": [
    "import joblib\n",
    "\n",
    "joblib.dump(model, 'iris_classifier_knn.joblib')"
   ]
  },
  {
   "cell_type": "markdown",
   "id": "b3f562e2",
   "metadata": {},
   "source": [
    "Loading Model Machine Learning dari file joblib"
   ]
  },
  {
   "cell_type": "code",
   "execution_count": 15,
   "id": "7e648d86",
   "metadata": {},
   "outputs": [],
   "source": [
    "production_model = joblib.load('iris_classifier_knn.joblib')"
   ]
  }
 ],
 "metadata": {
  "kernelspec": {
   "display_name": "Python 3 (ipykernel)",
   "language": "python",
   "name": "python3"
  },
  "language_info": {
   "codemirror_mode": {
    "name": "ipython",
    "version": 3
   },
   "file_extension": ".py",
   "mimetype": "text/x-python",
   "name": "python",
   "nbconvert_exporter": "python",
   "pygments_lexer": "ipython3",
   "version": "3.9.7"
  }
 },
 "nbformat": 4,
 "nbformat_minor": 5
}
