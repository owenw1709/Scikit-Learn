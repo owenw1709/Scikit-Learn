{
 "cells": [
  {
   "cell_type": "markdown",
   "id": "ec3c4c88",
   "metadata": {},
   "source": [
    "# Data Preprocessing dengan Scikit-Learn"
   ]
  },
  {
   "cell_type": "markdown",
   "id": "cc10b822",
   "metadata": {},
   "source": [
    "## Sample Dataset"
   ]
  },
  {
   "cell_type": "markdown",
   "id": "85815b5f",
   "metadata": {},
   "source": [
    "- sample dataset DataPreprocessing terdiri dari 4 baris dan mengandung 3 features"
   ]
  },
  {
   "cell_type": "code",
   "execution_count": 13,
   "id": "c8bbda50",
   "metadata": {},
   "outputs": [
    {
     "data": {
      "text/plain": [
       "array([[ 2.1, -1.9,  5.5],\n",
       "       [-1.5,  2.4,  3.5],\n",
       "       [ 0.5, -7.9,  5.6],\n",
       "       [ 5.9,  2.3, -5.8]])"
      ]
     },
     "execution_count": 13,
     "metadata": {},
     "output_type": "execute_result"
    }
   ],
   "source": [
    "import numpy as np\n",
    "from sklearn import preprocessing\n",
    "\n",
    "sample_data = np.array([[2.1, -1.9, 5.5], \n",
    "                        [-1.5, 2.4, 3.5], \n",
    "                        [0.5, -7.9, 5.6],\n",
    "                        [5.9, 2.3, -5.8]])\n",
    "\n",
    "sample_data"
   ]
  },
  {
   "cell_type": "code",
   "execution_count": 14,
   "id": "1400dbc1",
   "metadata": {},
   "outputs": [
    {
     "data": {
      "text/plain": [
       "(4, 3)"
      ]
     },
     "execution_count": 14,
     "metadata": {},
     "output_type": "execute_result"
    }
   ],
   "source": [
    "sample_data.shape"
   ]
  },
  {
   "cell_type": "markdown",
   "id": "c89ff90e",
   "metadata": {},
   "source": [
    "## Binarisation "
   ]
  },
  {
   "cell_type": "markdown",
   "id": "41fb874b",
   "metadata": {},
   "source": [
    "- Binarisation hanya bisa mengeluarkan angka 0 dan 1 saja.\n",
    "- Binarizer hanya bisa ditentukan dengan menggunakan fungsi preprocessing.Binarizer()"
   ]
  },
  {
   "cell_type": "code",
   "execution_count": 3,
   "id": "33727b3b",
   "metadata": {},
   "outputs": [
    {
     "data": {
      "text/plain": [
       "array([[ 2.1, -1.9,  5.5],\n",
       "       [-1.5,  2.4,  3.5],\n",
       "       [ 0.5, -7.9,  5.6],\n",
       "       [ 5.9,  2.3, -5.8]])"
      ]
     },
     "execution_count": 3,
     "metadata": {},
     "output_type": "execute_result"
    }
   ],
   "source": [
    "sample_data"
   ]
  },
  {
   "cell_type": "code",
   "execution_count": 4,
   "id": "7afee9f5",
   "metadata": {},
   "outputs": [
    {
     "data": {
      "text/plain": [
       "array([[1., 0., 1.],\n",
       "       [0., 1., 1.],\n",
       "       [0., 0., 1.],\n",
       "       [1., 1., 0.]])"
      ]
     },
     "execution_count": 4,
     "metadata": {},
     "output_type": "execute_result"
    }
   ],
   "source": [
    "preprocessor = preprocessing.Binarizer(threshold=0.5)\n",
    "binarised_data = preprocessor.transform(sample_data)\n",
    "binarised_data"
   ]
  },
  {
   "cell_type": "markdown",
   "id": "1fa4a8aa",
   "metadata": {},
   "source": [
    "## Scaling "
   ]
  },
  {
   "cell_type": "markdown",
   "id": "bd6a65b6",
   "metadata": {},
   "source": [
    "- tujuan nya adalah untuk menghasilkan data numerik dalam jangkauan tertentu"
   ]
  },
  {
   "cell_type": "code",
   "execution_count": 5,
   "id": "eeb18b30",
   "metadata": {},
   "outputs": [
    {
     "data": {
      "text/plain": [
       "array([[ 2.1, -1.9,  5.5],\n",
       "       [-1.5,  2.4,  3.5],\n",
       "       [ 0.5, -7.9,  5.6],\n",
       "       [ 5.9,  2.3, -5.8]])"
      ]
     },
     "execution_count": 5,
     "metadata": {},
     "output_type": "execute_result"
    }
   ],
   "source": [
    "sample_data"
   ]
  },
  {
   "cell_type": "code",
   "execution_count": 6,
   "id": "00deb77b",
   "metadata": {},
   "outputs": [
    {
     "data": {
      "text/plain": [
       "array([[0.48648649, 0.58252427, 0.99122807],\n",
       "       [0.        , 1.        , 0.81578947],\n",
       "       [0.27027027, 0.        , 1.        ],\n",
       "       [1.        , 0.99029126, 0.        ]])"
      ]
     },
     "execution_count": 6,
     "metadata": {},
     "output_type": "execute_result"
    }
   ],
   "source": [
    "preprocessor = preprocessing.MinMaxScaler(feature_range=(0, 1))\n",
    "preprocessor.fit(sample_data)\n",
    "scaled_data = preprocessor.transform(sample_data)\n",
    "scaled_data"
   ]
  },
  {
   "cell_type": "code",
   "execution_count": 7,
   "id": "83a3262e",
   "metadata": {},
   "outputs": [
    {
     "data": {
      "text/plain": [
       "array([[0.48648649, 0.58252427, 0.99122807],\n",
       "       [0.        , 1.        , 0.81578947],\n",
       "       [0.27027027, 0.        , 1.        ],\n",
       "       [1.        , 0.99029126, 0.        ]])"
      ]
     },
     "execution_count": 7,
     "metadata": {},
     "output_type": "execute_result"
    }
   ],
   "source": [
    "scaled_data = preprocessor.fit_transform(sample_data)\n",
    "scaled_data"
   ]
  },
  {
   "cell_type": "markdown",
   "id": "986728a8",
   "metadata": {},
   "source": [
    "## L1 Normalisation: Least Absolute Deviations"
   ]
  },
  {
   "cell_type": "markdown",
   "id": "3c1d2dbb",
   "metadata": {},
   "source": [
    "Referensi: https://en.wikipedia.org/wiki/Least_absolute_deviations"
   ]
  },
  {
   "cell_type": "markdown",
   "id": "90c97101",
   "metadata": {},
   "source": [
    "- menormaliasi nilai numeric dapat menggunakan fungsi preprocessing.normalize()"
   ]
  },
  {
   "cell_type": "code",
   "execution_count": 9,
   "id": "a8213417",
   "metadata": {},
   "outputs": [
    {
     "data": {
      "text/plain": [
       "array([[ 2.1, -1.9,  5.5],\n",
       "       [-1.5,  2.4,  3.5],\n",
       "       [ 0.5, -7.9,  5.6],\n",
       "       [ 5.9,  2.3, -5.8]])"
      ]
     },
     "execution_count": 9,
     "metadata": {},
     "output_type": "execute_result"
    }
   ],
   "source": [
    "sample_data"
   ]
  },
  {
   "cell_type": "code",
   "execution_count": 10,
   "id": "3e091016",
   "metadata": {},
   "outputs": [
    {
     "data": {
      "text/plain": [
       "array([[ 0.22105263, -0.2       ,  0.57894737],\n",
       "       [-0.2027027 ,  0.32432432,  0.47297297],\n",
       "       [ 0.03571429, -0.56428571,  0.4       ],\n",
       "       [ 0.42142857,  0.16428571, -0.41428571]])"
      ]
     },
     "execution_count": 10,
     "metadata": {},
     "output_type": "execute_result"
    }
   ],
   "source": [
    "l1_normalised_data = preprocessing.normalize(sample_data, norm='l1')\n",
    "l1_normalised_data"
   ]
  },
  {
   "cell_type": "markdown",
   "id": "a04c215c",
   "metadata": {},
   "source": [
    "## L2 Normalisation: Least Squares\n"
   ]
  },
  {
   "cell_type": "markdown",
   "id": "56352563",
   "metadata": {},
   "source": [
    "Referensi: https://en.wikipedia.org/wiki/Least_squares"
   ]
  },
  {
   "cell_type": "markdown",
   "id": "1851833e",
   "metadata": {},
   "source": [
    "- menormaliasi nilai numeric dapat menggunakan fungsi preprocessing.normalize()"
   ]
  },
  {
   "cell_type": "code",
   "execution_count": 11,
   "id": "44ae0d17",
   "metadata": {},
   "outputs": [
    {
     "data": {
      "text/plain": [
       "array([[ 2.1, -1.9,  5.5],\n",
       "       [-1.5,  2.4,  3.5],\n",
       "       [ 0.5, -7.9,  5.6],\n",
       "       [ 5.9,  2.3, -5.8]])"
      ]
     },
     "execution_count": 11,
     "metadata": {},
     "output_type": "execute_result"
    }
   ],
   "source": [
    "sample_data"
   ]
  },
  {
   "cell_type": "code",
   "execution_count": 12,
   "id": "3e834f4e",
   "metadata": {},
   "outputs": [
    {
     "data": {
      "text/plain": [
       "array([[ 0.33946114, -0.30713151,  0.88906489],\n",
       "       [-0.33325106,  0.53320169,  0.7775858 ],\n",
       "       [ 0.05156558, -0.81473612,  0.57753446],\n",
       "       [ 0.68706914,  0.26784051, -0.6754239 ]])"
      ]
     },
     "execution_count": 12,
     "metadata": {},
     "output_type": "execute_result"
    }
   ],
   "source": [
    "l2_normalised_data = preprocessing.normalize(sample_data, norm='l2')\n",
    "l2_normalised_data"
   ]
  }
 ],
 "metadata": {
  "kernelspec": {
   "display_name": "Python 3 (ipykernel)",
   "language": "python",
   "name": "python3"
  },
  "language_info": {
   "codemirror_mode": {
    "name": "ipython",
    "version": 3
   },
   "file_extension": ".py",
   "mimetype": "text/x-python",
   "name": "python",
   "nbconvert_exporter": "python",
   "pygments_lexer": "ipython3",
   "version": "3.9.7"
  }
 },
 "nbformat": 4,
 "nbformat_minor": 5
}
